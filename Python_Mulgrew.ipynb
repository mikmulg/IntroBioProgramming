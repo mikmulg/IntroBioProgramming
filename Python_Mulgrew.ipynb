{
 "cells": [
  {
   "cell_type": "code",
   "execution_count": 17,
   "id": "e16f52de-6212-474b-b0de-0571caee5dd3",
   "metadata": {},
   "outputs": [],
   "source": [
    "#Read in all_data csv file\n",
    "alldatFile = open('all_data.csv', 'r')\n",
    "\n",
    "data_split = []\n",
    "#Loop over each line in the all_data csv file and split each line up\n",
    "for line in alldatFile.readlines():\n",
    "    line_split = line.split(',')\n",
    "    data_split.append(line_split)\n",
    "    \n",
    "#For each antibody column from 8 to 24, add a newline to the string\n",
    "for item in data_split:\n",
    "    for x in range(0, len(item)): \n",
    "        if x >= 7 and x < 24:\n",
    "            item[x] += '\\n'\n",
    "            \n",
    "#Set up a list that contains the 17 antibodies in order\n",
    "antibodies = ['JIM5','JIM7','LM18','LM19','LM8','LM5','LM6','LM21','LM23','LM15','LM24','LM25','LM10','LM11','JIM20','LM2','LM1']\n",
    "\n",
    "#create an empty [] to hold new rows of data\n",
    "data_reform = []\n",
    "\n",
    "#create a headers list\n",
    "headers = ['Antibody', 'System', 'Tech_rep', 'Block', 'Variety', 'Extraction', 'Abundance']\n",
    "\n",
    "#join headers to data_reform and then all the subsequent rows\n",
    "data_reform.append(headers)\n",
    "\n",
    "#recreate columns in desired format\n",
    "#for each item, want each antibody to get its own row\n",
    "for item in data_split:\n",
    "    #iterate over each antibody\n",
    "    for x in range(7,24):\n",
    "        # [antibody, system, tech_rep(num only), block(num_only), variety, extraction, abundance]\n",
    "        new_row = [antibodies[x-7], item[2], item[0][-1], item[3][-1], item[4], item[5], item[x]]\n",
    "        data_reform.append(new_row)\n",
    "        \n",
    "#write data reform to a csv file using csv\n",
    "import csv\n",
    "\n",
    "with open('data.reformat.csv', mode='w', newline='') as csvfile:\n",
    "    #create file to write with csv writer\n",
    "    csv_wr = csv.writer(csvfile)\n",
    "    #write each row from data_reform to csv file\n",
    "    csv_wr.writerows(data_reform)\n"
   ]
  }
 ],
 "metadata": {
  "kernelspec": {
   "display_name": "Python 3 (ipykernel)",
   "language": "python",
   "name": "python3"
  },
  "language_info": {
   "codemirror_mode": {
    "name": "ipython",
    "version": 3
   },
   "file_extension": ".py",
   "mimetype": "text/x-python",
   "name": "python",
   "nbconvert_exporter": "python",
   "pygments_lexer": "ipython3",
   "version": "3.9.21"
  }
 },
 "nbformat": 4,
 "nbformat_minor": 5
}
