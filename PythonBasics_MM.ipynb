{
 "cells": [
  {
   "cell_type": "markdown",
   "metadata": {},
   "source": [
    "# Practical Activity: Python Basics\n",
    "\n",
    "This notebook is designed to reinforce the concepts introduced in Lesson 3 of Unit 1 of the Biology and Computation course. It will cover:\n",
    "\n",
    "* Creating Objects and Variables\n",
    "* Manipulating them with Operators\n",
    "* Calling external functions\n",
    "* Getting experience using Python and Jupyter Notebooks.\n",
    "\n",
    "Please work through the material presented here and add code in to the cells as indicated. "
   ]
  },
  {
   "cell_type": "markdown",
   "metadata": {},
   "source": [
    "## Initial Setup\n",
    "\n",
    "Before you start working through the exercises below, please make sure you run the Python cell below that will set up everything you will need to check your answers."
   ]
  },
  {
   "cell_type": "code",
   "execution_count": 2,
   "metadata": {},
   "outputs": [],
   "source": [
    "from unit_1_library import *"
   ]
  },
  {
   "cell_type": "markdown",
   "metadata": {},
   "source": [
    "## Objects and Variables\n",
    "\n",
    "To start with, let's create some variables. In the cell below, can you:\n",
    "\n",
    "* Create an integer variable called '`myint`'\n",
    "* Create a floating point (decimal) variable called '`myfloat`'\n",
    "* Create a string (text) variable called '`mystr1`'\n",
    "* Create another string (text) variable called '`mystr2`' and assign it the same *value* as `mystr1`\n",
    "\n",
    "Run the cell after that to check if you've got it right!\n",
    "\n",
    "### Important Info\n",
    "* You can create a variable using the assignment operator:\n",
    "```\n",
    "<variable name> = <value>\n",
    "<variable name> = <variable name>\n",
    "```\n"
   ]
  },
  {
   "cell_type": "code",
   "execution_count": 3,
   "metadata": {},
   "outputs": [],
   "source": [
    "myint = 7\n",
    "myfloat = 56.8\n",
    "mystr1 = \"pina coladas\"\n",
    "mystr2 = \"pina coladas\""
   ]
  },
  {
   "cell_type": "code",
   "execution_count": 4,
   "metadata": {},
   "outputs": [
    {
     "name": "stdout",
     "output_type": "stream",
     "text": [
      "Well done - you've created an integer!\n",
      "Well done - you've created a float!\n",
      "Well done - you've created a string!\n",
      "Well done - your mystr2 variable equals the mystr1 variable\n"
     ]
    }
   ],
   "source": [
    "check_answers_l3_ex1(globals())"
   ]
  },
  {
   "cell_type": "markdown",
   "metadata": {},
   "source": [
    "You've now created 3 objects in the computer's memory and assigned variables (labels) to them so you can refer to them later in your code. We can query what these are in a couple of ways:\n",
    "\n",
    "* using the `print(...)` function\n",
    "* using the `%whos` 'magic' function\n",
    "\n",
    "Try these in the cell below:"
   ]
  },
  {
   "cell_type": "code",
   "execution_count": 5,
   "metadata": {},
   "outputs": [
    {
     "name": "stdout",
     "output_type": "stream",
     "text": [
      "7 56.8 pina coladas pina coladas\n"
     ]
    }
   ],
   "source": [
    "print(myint, myfloat, mystr1, mystr2)"
   ]
  },
  {
   "cell_type": "code",
   "execution_count": 6,
   "metadata": {},
   "outputs": [
    {
     "name": "stdout",
     "output_type": "stream",
     "text": [
      "Variable                Type        Data/Info\n",
      "---------------------------------------------\n",
      "check_answers_l3_ex1    function    <function check_answers_l3_ex1 at 0x7fa6ec1dcaf0>\n",
      "check_answers_l3_ex2    function    <function check_answers_l3_ex2 at 0x7fa6ec1dcca0>\n",
      "check_answers_l3_ex3    function    <function check_answers_l3_ex3 at 0x7fa6ec1dcd30>\n",
      "check_answers_l3_ex4    function    <function check_answers_l3_ex4 at 0x7fa6ec1dcdc0>\n",
      "check_answers_l4_ex1    function    <function check_answers_l4_ex1 at 0x7fa6ec19e0d0>\n",
      "check_answers_l4_ex2    function    <function check_answers_l4_ex2 at 0x7fa6ec19e310>\n",
      "dna1                    function    <function dna1 at 0x7fa6ec1dcee0>\n",
      "dna2                    function    <function dna2 at 0x7fa6ec1dcf70>\n",
      "dna3                    function    <function dna3 at 0x7fa6ec19e040>\n",
      "dna_analyser_v1         function    <function dna_analyser_v1 at 0x7fa6ec19e1f0>\n",
      "dna_analyser_v2         function    <function dna_analyser_v2 at 0x7fa6ec19e280>\n",
      "dna_experiment_output   function    <function dna_experiment_<...>output at 0x7fa6ec19e3a0>\n",
      "generate_dna_sequence   function    <function generate_dna_se<...>quence at 0x7fa6ec19e160>\n",
      "get_time                function    <function get_time at 0x7fa6ec19e430>\n",
      "myfloat                 float       56.8\n",
      "myint                   int         7\n",
      "mystr1                  str         pina coladas\n",
      "mystr2                  str         pina coladas\n",
      "random                  module      <module 'random' from '/u<...>b64/python3.9/random.py'>\n"
     ]
    }
   ],
   "source": [
    "%whos"
   ]
  },
  {
   "cell_type": "markdown",
   "metadata": {},
   "source": [
    "## Operators and Manipulating Objects\n",
    "\n",
    "Now you have saved some information in objects and labelled them with variable names, you can start to do calculations and manipulate them. For this, we'll use operators. Add code to the cell below that does the following:\n",
    "\n",
    "* Set a variable `var3` equal to the result of adding the first 5 integers (1, 2, 3, 4, 5) together in one line\n",
    "* Set a variable `var4` equal to the result of multiplying `var1` by `var2`\n",
    "* Set a variable `var5` equal to the result of dividing `var1` by `var2`\n",
    "\n",
    "Run the next cell to check you've got it right!\n",
    "\n",
    "### Important Info\n",
    "\n",
    "* These exercises will use the basic arithmetic operators: \n",
    "\n",
    "```\n",
    "+, -, *, /\n",
    "```"
   ]
  },
  {
   "cell_type": "code",
   "execution_count": 17,
   "metadata": {},
   "outputs": [],
   "source": [
    "var1 = 9\n",
    "var2 = 7\n",
    "str1 = \"abc\"\n",
    "\n",
    "################## ADD YOUR CODE UNDER THIS LINE ###################\n",
    "\n",
    "var3 = 1+2+3+4+5\n",
    "var4 = var1*var2\n",
    "var5 = var1/var2"
   ]
  },
  {
   "cell_type": "code",
   "execution_count": 18,
   "metadata": {},
   "outputs": [
    {
     "name": "stdout",
     "output_type": "stream",
     "text": [
      "var3 is correct!\n",
      "var4 is correct!\n",
      "var5 is correct!\n"
     ]
    }
   ],
   "source": [
    "check_answers_l3_ex2(globals())"
   ]
  },
  {
   "cell_type": "markdown",
   "metadata": {},
   "source": [
    "This covers the basic arithmetic operations on numerical objects. Some of these operators, as well as others, can also be used on different types of object. For example, try the following:\n",
    "\n",
    "* `print` the result of multiplying `var2` by `str1`\n",
    "* `print` the middle character of the variable `str1` - use the array operator `[]` and don't forget collections start from index 0 in Python!\n",
    "* `print` the result of dividing `str1` by `var2` - note this will cause an error!\n"
   ]
  },
  {
   "cell_type": "code",
   "execution_count": 12,
   "metadata": {},
   "outputs": [
    {
     "name": "stdout",
     "output_type": "stream",
     "text": [
      "abcabcabcabcabcabcabc\n"
     ]
    }
   ],
   "source": [
    "print(var2*str1)"
   ]
  },
  {
   "cell_type": "code",
   "execution_count": 14,
   "metadata": {},
   "outputs": [
    {
     "name": "stdout",
     "output_type": "stream",
     "text": [
      "b\n"
     ]
    }
   ],
   "source": [
    "print(str1[1])"
   ]
  },
  {
   "cell_type": "code",
   "execution_count": 15,
   "metadata": {
    "jupyter": {
     "source_hidden": true
    },
    "tags": []
   },
   "outputs": [
    {
     "ename": "TypeError",
     "evalue": "unsupported operand type(s) for /: 'str' and 'int'",
     "output_type": "error",
     "traceback": [
      "\u001b[0;31m---------------------------------------------------------------------------\u001b[0m",
      "\u001b[0;31mTypeError\u001b[0m                                 Traceback (most recent call last)",
      "Cell \u001b[0;32mIn[15], line 1\u001b[0m\n\u001b[0;32m----> 1\u001b[0m \u001b[38;5;28mprint\u001b[39m(\u001b[43mstr1\u001b[49m\u001b[38;5;241;43m/\u001b[39;49m\u001b[43mvar2\u001b[49m)\n",
      "\u001b[0;31mTypeError\u001b[0m: unsupported operand type(s) for /: 'str' and 'int'"
     ]
    }
   ],
   "source": [
    "print(str1/var2)"
   ]
  },
  {
   "cell_type": "markdown",
   "metadata": {},
   "source": [
    "As you can see, operators do different things (and sometimes don't work at all!) depending on the *types* of objects they are being used on. "
   ]
  },
  {
   "cell_type": "markdown",
   "metadata": {},
   "source": [
    "## Calling External Functions\n",
    "\n",
    "As mentioned in the course material, it is a fundamental skill of programming to reuse code as much as possible to reduce the amount of code you have to write. Using external functions is a big part of this and you've already seen this in action with the `print` function. In this section you'll get experience using other types of function.\n",
    "\n",
    "Add code to the cell below that does the following:\n",
    "\n",
    "* Sets a variable `num1` to the absolute value of `-78.2` - use the function `abs(..)`\n",
    "* Sets a variable `len1` to the length of variable `str2` - use the function `len(..)`\n",
    "* Convert `num1` from a number to a string variable and set `str3` equal to this - use the function `str(..)`\n",
    "* Convert `str3` *back* to a number from a string variable and set `num2` equal to this - use the function `float(..)`\n",
    "* Try to convert `str3` back to a number from a string using the function `int(..)` - **this will produce an error!**\n",
    "\n",
    "Run the third cell to check you've got it right!"
   ]
  },
  {
   "cell_type": "code",
   "execution_count": 21,
   "metadata": {},
   "outputs": [
    {
     "ename": "ValueError",
     "evalue": "invalid literal for int() with base 10: '78.2'",
     "output_type": "error",
     "traceback": [
      "\u001b[0;31m---------------------------------------------------------------------------\u001b[0m",
      "\u001b[0;31mValueError\u001b[0m                                Traceback (most recent call last)",
      "Cell \u001b[0;32mIn[21], line 9\u001b[0m\n\u001b[1;32m      7\u001b[0m str3 \u001b[38;5;241m=\u001b[39m \u001b[38;5;28mstr\u001b[39m(num1)\n\u001b[1;32m      8\u001b[0m num2 \u001b[38;5;241m=\u001b[39m \u001b[38;5;28mfloat\u001b[39m(str3)\n\u001b[0;32m----> 9\u001b[0m int1 \u001b[38;5;241m=\u001b[39m \u001b[38;5;28;43mint\u001b[39;49m\u001b[43m(\u001b[49m\u001b[43mstr3\u001b[49m\u001b[43m)\u001b[49m\n",
      "\u001b[0;31mValueError\u001b[0m: invalid literal for int() with base 10: '78.2'"
     ]
    }
   ],
   "source": [
    "str2 = \"Hello everyone\"\n",
    "\n",
    "################## ADD YOUR CODE UNDER THIS LINE ###################\n",
    "\n",
    "num1 = abs(-78.2)\n",
    "len1 = len(str2)\n",
    "str3 = str(num1)\n",
    "num2 = float(str3)\n",
    "int1 = int(str3)"
   ]
  },
  {
   "cell_type": "code",
   "execution_count": 22,
   "metadata": {},
   "outputs": [
    {
     "name": "stdout",
     "output_type": "stream",
     "text": [
      "num1 is correct!\n",
      "len1 is correct!\n",
      "str3 is correct!\n",
      "num2 is correct!\n"
     ]
    }
   ],
   "source": [
    "check_answers_l3_ex3(globals())"
   ]
  },
  {
   "cell_type": "markdown",
   "metadata": {},
   "source": [
    "You can also call functions that are provided by an object's type using the messaging or dot (`.`) operator, e.g.\n",
    "```\n",
    "mystr.upper()\n",
    "```\n",
    "This is asking Python to call the function named `upper` which is provided by the object labelled with the variable name `mystr`.\n",
    "\n",
    "Try this out in the cell below: Create a variable `mystr` as a string and then call the `upper` function on it:"
   ]
  },
  {
   "cell_type": "code",
   "execution_count": 23,
   "metadata": {},
   "outputs": [
    {
     "data": {
      "text/plain": [
       "'BASKETBALL'"
      ]
     },
     "execution_count": 23,
     "metadata": {},
     "output_type": "execute_result"
    }
   ],
   "source": [
    "mystr = \"basketball\"\n",
    "mystr.upper()"
   ]
  },
  {
   "cell_type": "markdown",
   "metadata": {},
   "source": [
    "There are many functions provided by the string type. To find out all the options you can search the internet for 'python string documentation' or just go to the official Python documentation here:\n",
    "\n",
    "https://docs.python.org/3/library/stdtypes.html#string-methods\n",
    "\n",
    "You can also get some information from Jupyter as well. If you type `mystr.` and press the `Tab` key, a list should pop up of all the functions and variables provided by that object. Try this in the cell below!"
   ]
  },
  {
   "cell_type": "code",
   "execution_count": null,
   "metadata": {},
   "outputs": [],
   "source": [
    "mystr."
   ]
  },
  {
   "cell_type": "markdown",
   "metadata": {},
   "source": [
    "Using this knowledge, find and use functions provided by the string class that does the following with the `mystr3` variable declared below:\n",
    "\n",
    "* Counts the number of 'e's\n",
    "* Splits up the variable into words\n",
    "* Replaces the word 'fox' with duck\n",
    "\n",
    "Set the result of each one to `myvar1`, `myvar2` and `myvar3` respectively and use the cell after to check your results."
   ]
  },
  {
   "cell_type": "code",
   "execution_count": 30,
   "metadata": {},
   "outputs": [],
   "source": [
    "mystr3 = 'The quick brown fox jumps over the lazy dog'\n",
    "\n",
    "################## ADD YOUR CODE UNDER THIS LINE ###################\n",
    "\n",
    "myvar1 = mystr3.count('e')\n",
    "myvar2 = mystr3.split()\n",
    "myvar3 = mystr3.replace('fox', 'duck')"
   ]
  },
  {
   "cell_type": "code",
   "execution_count": 31,
   "metadata": {},
   "outputs": [
    {
     "name": "stdout",
     "output_type": "stream",
     "text": [
      "3 ['The', 'quick', 'brown', 'fox', 'jumps', 'over', 'the', 'lazy', 'dog'] The quick brown duck jumps over the lazy dog\n"
     ]
    }
   ],
   "source": [
    "print(myvar1, myvar2, myvar3)"
   ]
  },
  {
   "cell_type": "code",
   "execution_count": 32,
   "metadata": {},
   "outputs": [
    {
     "name": "stdout",
     "output_type": "stream",
     "text": [
      "myvar1 is correct!\n",
      "myvar2 is correct!\n",
      "myvar3 is correct!\n"
     ]
    }
   ],
   "source": [
    "check_answers_l3_ex4(globals())"
   ]
  },
  {
   "cell_type": "markdown",
   "metadata": {},
   "source": [
    "Hopefully this has given you some experience with objects, variables and functions but do have a go yourself to try to build on this work. You should now have everything you need to tackle the main activity in Lesson 4!"
   ]
  }
 ],
 "metadata": {
  "kernelspec": {
   "display_name": "Python 3 (ipykernel)",
   "language": "python",
   "name": "python3"
  },
  "language_info": {
   "codemirror_mode": {
    "name": "ipython",
    "version": 3
   },
   "file_extension": ".py",
   "mimetype": "text/x-python",
   "name": "python",
   "nbconvert_exporter": "python",
   "pygments_lexer": "ipython3",
   "version": "3.9.21"
  }
 },
 "nbformat": 4,
 "nbformat_minor": 4
}
