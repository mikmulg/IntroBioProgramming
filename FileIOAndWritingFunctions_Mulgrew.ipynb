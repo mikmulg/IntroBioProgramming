{
 "cells": [
  {
   "cell_type": "markdown",
   "metadata": {},
   "source": [
    "# Practical Activity: File I/O and Writing Functions\n",
    "\n",
    "This notebook is designed to reinforce the concepts introduced in Lesson 2 of Unit 3 of the Biology and Computation course. It will cover:\n",
    "\n",
    "* Reading and Writing to files\n",
    "* Writing Functions\n",
    "\n",
    "Please work through the material presented here and add code in to the cells as indicated. "
   ]
  },
  {
   "cell_type": "markdown",
   "metadata": {},
   "source": [
    "## Initial Setup\n",
    "\n",
    "Before you start working through the exercises below, please make sure you run the Python cell below that will set up everything you will need to check your answers."
   ]
  },
  {
   "cell_type": "code",
   "execution_count": 1,
   "metadata": {},
   "outputs": [],
   "source": [
    "from unit_3_library import *"
   ]
  },
  {
   "cell_type": "markdown",
   "metadata": {},
   "source": [
    "## Reading from Files\n",
    "\n",
    "In this exercise you'll be looking at reading information from a text file. Within the folder that this notebook is saved in, there is a also a text file called `TheRaven.txt`. Can you:\n",
    "\n",
    "* Open the file, read in the whole contents and store it in a variable called `file_contents1`\n",
    "* Open the file, and store each line in a list variable called `file_contents2` **without** the newline character at the end. Use a loop over the output of the `readlines` function to do this.\n",
    "* Read in the first 50 bytes of the file and store it in a variable called `file_contents3`\n",
    "\n",
    "Run the cell after that to check your answers.\n",
    "\n",
    "\n",
    "### Important Info\n",
    "* To open a file **for reading**, use the function `open(<fname>, \"r\")`. You can then use the returned file object to call:\n",
    "    * `read()` to read in the contents of the whole file\n",
    "    * `read(num)` to return the first `num` bytes of the file\n",
    "    * `readlines()` to provide a list to loop over\n",
    "* After each call to `read` or `readlines` you will need to `close()` and re-open the file **or** call `seek(0)` to reset the file pointer back to the start of the file\n",
    "* To remove whitespace (**including newlines!**) from the start and ends of a line, use the `string.strip(...)` function:\n",
    "```\n",
    "In [1]: mystr = \"   test1 test2   \"\n",
    "In [2]: mystr.strip()\n",
    "Out[2]: 'test1 test2'\n",
    "```\n"
   ]
  },
  {
   "cell_type": "code",
   "execution_count": 22,
   "metadata": {},
   "outputs": [
    {
     "name": "stdout",
     "output_type": "stream",
     "text": [
      "Once upon a midnight dreary, while I pondered, weak and weary,\n",
      "Over many a quaint and curious volume of forgotten lore—\n",
      "    While I nodded, nearly napping, suddenly there came a tapping,\n",
      "As of some one gently rapping, rapping at my chamber door.\n",
      "\"'Tis some visitor,\" I muttered, \"tapping at my chamber door—\n",
      "            Only this and nothing more.\"\n",
      "\n",
      "    Ah, distinctly I remember it was in the bleak December;\n",
      "And each separate dying ember wrought its ghost upon the floor.\n",
      "    Eagerly I wished the morrow;—vainly I had sought to borrow\n",
      "    From my books surcease of sorrow—sorrow for the lost Lenore—\n",
      "For the rare and radiant maiden whom the angels name Lenore—\n",
      "            Nameless here for evermore.\n",
      "\n",
      "    And the silken, sad, uncertain rustling of each purple curtain\n",
      "Thrilled me—filled me with fantastic terrors never felt before;\n",
      "    So that now, to still the beating of my heart, I stood repeating\n",
      "    \"'Tis some visitor entreating entrance at my chamber door—\n",
      "Some late visitor entreating entrance at my chamber door;—\n",
      "            This it is and nothing more.\"\n",
      "\n",
      "Once upon a midnight dreary, while I pondered, wea\n"
     ]
    }
   ],
   "source": [
    "#open file Raven.txt\n",
    "file_contents = open(\"TheRaven.txt\", \"r\")\n",
    "\n",
    "#read contents of file_contents1\n",
    "file_contents1 = file_contents.read()\n",
    "print(file_contents1)\n",
    "\n",
    "file_contents = open(\"TheRaven.txt\", \"r\")\n",
    "file_contents2 = []\n",
    "#store each line in a list variable without newline character at end\n",
    "for line_ in file_contents.readlines():\n",
    "    file_contents2.append(line_.strip())\n",
    "\n",
    "#read first 50 characters of Raven text\n",
    "file_contents = open(\"TheRaven.txt\", \"r\")\n",
    "file_contents3 = file_contents.read(50)\n",
    "print(file_contents3)"
   ]
  },
  {
   "cell_type": "code",
   "execution_count": 11,
   "metadata": {},
   "outputs": [
    {
     "name": "stdout",
     "output_type": "stream",
     "text": [
      "Well done - file_contents1 contains the whole file!\n",
      "Well done - file_contents2 contains the whole file with lines separated into a list!\n",
      "Well done - file_contents3 contains the first 50 bytes of the file!\n"
     ]
    }
   ],
   "source": [
    "check_answers_l2_ex1(globals())"
   ]
  },
  {
   "cell_type": "markdown",
   "metadata": {},
   "source": [
    "## Writing to Files\n",
    "\n",
    "In this exercise you'll be looking at writing some text information into a file. Can you:\n",
    "\n",
    "* Open a file called `TheRavenCopy.txt` for writing\n",
    "* Write out the lines contained in the list `file_contents2` that you created in the previous exercise but with a line number at the start of each line (i.e. `1 Once upon a midnight..`, etc.)\n",
    "* Close the file\n",
    "\n",
    "Run the cell after that to check your answers.\n",
    "\n",
    "### Important Info\n",
    "* To open a file **for writing**, use the function `open(<fname>, \"w\")`\n",
    "* To convert numbers to strings, use the `str(...)` function:\n",
    "```\n",
    "In [1]: str(6)\n",
    "Out[1]: '6'\n",
    "```\n",
    "* You need to add **one space** (`' '`) between the line number and text. Either write each part of the line (number, space, text) separately or combine them into a single variable and write that\n",
    "* To write a string to a file, use the `file.write(...)` function:\n",
    "```\n",
    "In [1]: myfile = open(\"testfile.txt\", \"w\")\n",
    "In [2]: myfile.write(\"some text\")\n",
    "```\n",
    "* Don't forget to add a new line character (\"\\n\") at the end of each line\n"
   ]
  },
  {
   "cell_type": "code",
   "execution_count": 34,
   "metadata": {},
   "outputs": [],
   "source": [
    "raven = open(\"TheRavenCopy.txt\", \"w\")\n",
    "\n",
    "line_num = 1\n",
    "#write each line from file_contents2 to Raven Copy with a line number at start of each line\n",
    "for line_ in file_contents2:\n",
    "    raven.write(str(line_num) + \" \" + line_ + \"\\n\")\n",
    "    line_num += 1\n",
    "\n",
    "raven.close()"
   ]
  },
  {
   "cell_type": "code",
   "execution_count": 35,
   "metadata": {},
   "outputs": [
    {
     "name": "stdout",
     "output_type": "stream",
     "text": [
      "Well done - Your TheRavenCopy.txt file has the line numbers added at the start of each line!\n"
     ]
    }
   ],
   "source": [
    "check_answers_l2_ex2(globals())"
   ]
  },
  {
   "cell_type": "markdown",
   "metadata": {},
   "source": [
    "## Writing your own Functions\n",
    "\n",
    "In this exercise you'll be looking at writing your own functions. We'll start by looking at the code that you need to turn into a function:\n",
    "```\n",
    "my_list = [1, 5, 8, 9]\n",
    "my_mult = 5\n",
    "for i in range(0, len(my_list)):\n",
    "    my_list[i] *= my_mult\n",
    "```\n",
    "\n",
    "This just loops over a list and multiplies each element by `my_mult`. Can you try the following:\n",
    "\n",
    "* Define a function called `list_multiply1` that takes two arguments, the first being a list and the second being a number\n",
    "* In the function body, use the above code as a base to create a function that multiplies each item in the first argument by the second argument\n",
    "* Check your function works by calling it with a list variable and checking each item has been multiplied correctly afterwards\n",
    "* Create a new function called `list_multiply2` and copy and paste the code from your `list_multiply1` function as the basis for that code\n",
    "* Change your `list_multiply2` function to make the second argument have a default value of `9`\n",
    "* Change your `list_multiply2` function so that it doesn't alter the list it's given but **returns a copy** of the list that has been multiplied\n",
    "* Check your new function works by calling it with a list variable. Check the return value contains a copy of the list that has been multiplied, and check the original list variable supplied to the function has not been modified.\n",
    "\n",
    "Run the cell after that to check your answers.\n",
    "\n",
    "### Important Info\n",
    "* You define a function using the `def` keyword and then give the required arguments (extra information) in brackets, e.g.:\n",
    "```\n",
    "def myfunc(var1, var2):\n",
    "```\n",
    "* Default arguments can be specified in the function definition, e.g.:\n",
    "```\n",
    "def myfunc(var1 = \"a\", var2 = \"b\"):\n",
    "```\n",
    "* To create a copy of a list, use the `list(...)` function, e.g.:\n",
    "```\n",
    "In [1]: mylist = [1, 2, 3, 4]\n",
    "In [2]: mylist_copy = list(mylist)\n",
    "```"
   ]
  },
  {
   "cell_type": "code",
   "execution_count": 45,
   "metadata": {},
   "outputs": [
    {
     "name": "stdout",
     "output_type": "stream",
     "text": [
      "[2, 4, 6, 8, 10, 12, 14, 16, 18, 20]\n",
      "[2, 4, 6, 8, 10, 12, 14, 16, 18, 20]\n",
      "[9, 18, 27, 36, 45, 54, 63, 72, 81, 90]\n",
      "[1, 2, 3, 4, 5, 6, 7, 8, 9, 10]\n"
     ]
    }
   ],
   "source": [
    "#create a function that takes two arguments, a list and a number\n",
    "#function will multiply each item in the list by the second argument number\n",
    "def list_multiply1(arg1_list, arg2_num):\n",
    "    \n",
    "    index = 0\n",
    "    #for loop to multiply each number in the list by the multiplier and replace value in existing list\n",
    "    for num_ in arg1_list:\n",
    "        mult = num_*arg2_num\n",
    "        arg1_list[index] = mult\n",
    "        index += 1\n",
    "    \n",
    "    return arg1_list\n",
    "\n",
    "#test to make sure list_multiply1 function works correctly\n",
    "list_test = [1, 2, 3, 4, 5, 6, 7, 8, 9, 10]\n",
    "print(list_multiply1(list_test, 2))\n",
    "print(list_test)\n",
    "\n",
    "#create a copy of list_multiply1 but second number argument is 9\n",
    "def list_multiply2(arg1_list, arg2_num = 9):\n",
    "    \n",
    "    #create an empty list which will hold multiplied numbers\n",
    "    multiplied = []\n",
    "    \n",
    "    #for loop to multiply each number in the list by the multiplier and append to new list\n",
    "    for num_ in arg1_list:\n",
    "        mult = num_*arg2_num\n",
    "        multiplied.append(mult)\n",
    "    \n",
    "    return multiplied\n",
    "\n",
    "list_test2 = [1, 2, 3, 4, 5, 6, 7, 8, 9, 10]\n",
    "print(list_multiply2(list_test2, 9))\n",
    "print(list_test2)"
   ]
  },
  {
   "cell_type": "code",
   "execution_count": null,
   "metadata": {},
   "outputs": [],
   "source": []
  },
  {
   "cell_type": "code",
   "execution_count": null,
   "metadata": {},
   "outputs": [],
   "source": []
  },
  {
   "cell_type": "code",
   "execution_count": 41,
   "metadata": {},
   "outputs": [
    {
     "name": "stdout",
     "output_type": "stream",
     "text": [
      "Your 'list_multiply1' function multiplied the elements of the list by the given numerical argument. Well done!\n",
      "Your 'list_multiply2' function multiplied the elements of the list by a given numerical argument and returned the result. Well done!\n"
     ]
    }
   ],
   "source": [
    "check_answers_l2_ex3(globals())"
   ]
  },
  {
   "cell_type": "markdown",
   "metadata": {},
   "source": [
    "This activity has covered the principle ways you'll be accessing files and writing functions. There is more advanced functionality for both, but these examples cover the vast majority of use-cases you are likely to encounter."
   ]
  }
 ],
 "metadata": {
  "kernelspec": {
   "display_name": "Python 3 (ipykernel)",
   "language": "python",
   "name": "python3"
  },
  "language_info": {
   "codemirror_mode": {
    "name": "ipython",
    "version": 3
   },
   "file_extension": ".py",
   "mimetype": "text/x-python",
   "name": "python",
   "nbconvert_exporter": "python",
   "pygments_lexer": "ipython3",
   "version": "3.9.21"
  }
 },
 "nbformat": 4,
 "nbformat_minor": 4
}
