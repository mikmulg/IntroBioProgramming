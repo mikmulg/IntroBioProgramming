{
 "cells": [
  {
   "cell_type": "markdown",
   "metadata": {},
   "source": [
    "# Practical Activity: Debugging Strategies\n",
    "\n",
    "This notebook is designed to reinforce the concepts introduced in Lesson 3 of Unit 3 of the Biology and Computation course. It's primary focus is to give you some experience with debugging code. There are a number of code examples supplied that have different types of error in them. The code will cover the folowing types of error:\n",
    "\n",
    "* Syntax Errors\n",
    "* Runtime Errors\n",
    "* Unexpected Behaviour\n",
    "\n",
    "Multiple errors of different types are in each block of code. Try to fix the code so that each cell produces the required output. Don't forget to read the errors that are being produced and use `print` statements to help determine where the problems are!"
   ]
  },
  {
   "cell_type": "markdown",
   "metadata": {},
   "source": [
    "## Finding the Largest Number\n",
    "\n",
    "The following code should find the largest number in the given list. Fix these so it prints out the correct answer!\n"
   ]
  },
  {
   "cell_type": "code",
   "execution_count": 3,
   "metadata": {},
   "outputs": [
    {
     "name": "stdout",
     "output_type": "stream",
     "text": [
      "87\n"
     ]
    }
   ],
   "source": [
    "num_list = [6, 10, 87, 10, 44, 2]\n",
    "\n",
    "#change to 0 or else 1000 always gets printed\n",
    "max_num = 0\n",
    "\n",
    "for num in num_list:\n",
    "    #needed a colon at the end of the if statement\n",
    "    if num > max_num:\n",
    "        max_num = num\n",
    "        \n",
    "print(max_num) "
   ]
  },
  {
   "cell_type": "markdown",
   "metadata": {},
   "source": [
    "## Is this number Prime?\n",
    "\n",
    "A prime number is a number that is only divisible by itself and 1. The following code should decide if a number given by the `num` variable is prime or not. Fix the errors so that it does!"
   ]
  },
  {
   "cell_type": "code",
   "execution_count": 12,
   "metadata": {},
   "outputs": [
    {
     "name": "stdout",
     "output_type": "stream",
     "text": [
      "29 is a prime number\n"
     ]
    }
   ],
   "source": [
    "num = 29\n",
    "flag = True\n",
    "\n",
    "# only check numbers greater than 1\n",
    "if num > 1:\n",
    "    \n",
    "    # loop over all factors\n",
    "    #needed a branket around range arguments\n",
    "    for i in range(2, num):\n",
    "        \n",
    "        # is this a factor?\n",
    "        #need a double equal sign to check equality\n",
    "        if (num % i) == 0:\n",
    "            # if so, break out\n",
    "            #want the flag to be changed to False (ie not prime) if the remainder is 0\n",
    "            flag = False\n",
    "            break\n",
    "        \n",
    "\n",
    "# check if flag is True\n",
    "#an equality must be written to be checked for the if else statement\n",
    "if flag != True:\n",
    "    print(num, \"is not a prime number\")\n",
    "else:\n",
    "    print(num, \"is a prime number\")"
   ]
  },
  {
   "cell_type": "markdown",
   "metadata": {},
   "source": [
    "## Adding Two Lists Together\n",
    "\n",
    "The code below should add the two lists `X` and `Y` together and compare to a known result `Z`. Fix the syntax errors and find the other bugs that are stopping it from working correctly."
   ]
  },
  {
   "cell_type": "code",
   "execution_count": 18,
   "metadata": {},
   "outputs": [
    {
     "name": "stdout",
     "output_type": "stream",
     "text": [
      "Z and result are equal.\n",
      "Analysis Complete\n"
     ]
    }
   ],
   "source": [
    "X = [3, 6, 9, 12, 15, 18, 21]  # X list\n",
    "#both lists were named X, rename to Y\n",
    "Y = [2, 4, 6, 8, 10, 12, 14]   # Y list\n",
    "\n",
    "#want to append results to an empty list so changed result to be an empty list\n",
    "result = []\n",
    "\n",
    "if len(X) == len(Y):\n",
    "    for i in range(len(X)):\n",
    "        #want to append each addition to result list\n",
    "        result.append(X[i] + Y[i])\n",
    "\n",
    "Z = [5, 10, 15, 20, 25, 30, 35]\n",
    "#don't think a flag is necessary for checking if the two lists are equal if a for loop is already being used\n",
    "flag = True\n",
    "\n",
    "for i in range(len(Z)):\n",
    "    if Z[i] != result[i]:\n",
    "        flag = False\n",
    "        print(\"Problem in Analysis!\")\n",
    "        break\n",
    "    else:\n",
    "        continue\n",
    "        \n",
    "if flag == True:\n",
    "    print(\"Z and result are equal.\")\n",
    "    \n",
    "print(\"Analysis Complete\")\n",
    "    "
   ]
  },
  {
   "cell_type": "markdown",
   "metadata": {},
   "source": [
    "## Finding Substrings in a String\n",
    "\n",
    "The code below should search for 5 words in a string and print out the index in a string where the word was found with some surrounding text. If the word isn't found, a message should be printed. Fix the bugs so the messages get displayed correctly."
   ]
  },
  {
   "cell_type": "code",
   "execution_count": 32,
   "metadata": {},
   "outputs": [
    {
     "name": "stdout",
     "output_type": "stream",
     "text": [
      "Substring 'quick' found at index 4\n",
      "   Surrounding text was 'The quick bro'\n",
      "\n",
      "Substring 'jump' found at index 20\n",
      "   Surrounding text was 'fox jumped o'\n",
      "\n",
      "Substring 'The' found at index 0\n",
      "   Surrounding text was 'The qui'\n",
      "\n",
      "Substring 'cat' wasn't found.\n",
      "\n",
      "Substring 'dog' found at index 41\n",
      "   Surrounding text was 'azy dog'\n",
      "\n",
      "Substring 'he' found at index 1\n",
      "   Surrounding text was 'The qui'\n",
      "\n"
     ]
    }
   ],
   "source": [
    "main_string = \"The quick brown fox jumped over the lazy dog\"\n",
    "search_strings = ['quick', 'jump', 'The', 'cat', 'dog', 'he']\n",
    "#added he to test what happened in search below. Wanted to print out trailing characters if index was less than 4, not just 0. \n",
    "\n",
    "\n",
    "#want to parse through list of words to look for not the string itself\n",
    "for search_str in search_strings:\n",
    "    \n",
    "    index = main_string.find(search_str)\n",
    "    \n",
    "    if index == 0:\n",
    "        \n",
    "        print(\"Substring '\" + search_str + \"' found at index\", index)\n",
    "        text_nearby = main_string[index:index + len(search_str) + 4]\n",
    "        print(\"   Surrounding text was '\" + text_nearby + \"'\\n\")\n",
    "        \n",
    "    elif index > 0 and index < 4:\n",
    "        \n",
    "        print(\"Substring '\" + search_str + \"' found at index\", index)\n",
    "        text_nearby = main_string[0:index + len(search_str) + 4]\n",
    "        print(\"   Surrounding text was '\" + text_nearby + \"'\\n\")\n",
    "    \n",
    "    #add and elif so that if text search returns the first word, only trailing text is returned \n",
    "    elif index >= 4:\n",
    "        \n",
    "        print(\"Substring '\" + search_str + \"' found at index\", index)\n",
    "        text_nearby = main_string[index - 4:index + len(search_str) + 4]\n",
    "        print(\"   Surrounding text was '\" + text_nearby + \"'\\n\")\n",
    "    \n",
    "    else:\n",
    "        print(\"Substring '\" + search_str + \"' wasn't found.\\n\")\n",
    "        "
   ]
  },
  {
   "cell_type": "markdown",
   "metadata": {},
   "source": [
    "This activity has covered a few of the many, many ways that bugs can crop up in your code. Hopefully you've started getting some experience how to go about analysing what's happening in the code and then fixing any problems you encounter."
   ]
  }
 ],
 "metadata": {
  "kernelspec": {
   "display_name": "Python 3 (ipykernel)",
   "language": "python",
   "name": "python3"
  },
  "language_info": {
   "codemirror_mode": {
    "name": "ipython",
    "version": 3
   },
   "file_extension": ".py",
   "mimetype": "text/x-python",
   "name": "python",
   "nbconvert_exporter": "python",
   "pygments_lexer": "ipython3",
   "version": "3.9.21"
  }
 },
 "nbformat": 4,
 "nbformat_minor": 4
}
